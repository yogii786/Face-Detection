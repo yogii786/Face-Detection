{
 "cells": [
  {
   "cell_type": "code",
   "execution_count": 1,
   "metadata": {},
   "outputs": [
    {
     "name": "stdout",
     "output_type": "stream",
     "text": [
      "Requirement already satisfied: face_recognition in c:\\users\\hp world\\anaconda4\\lib\\site-packages\n",
      "Requirement already satisfied: numpy in c:\\users\\hp world\\anaconda4\\lib\\site-packages (from face_recognition)\n",
      "Requirement already satisfied: Pillow in c:\\users\\hp world\\anaconda4\\lib\\site-packages (from face_recognition)\n",
      "Requirement already satisfied: face-recognition-models>=0.3.0 in c:\\users\\hp world\\anaconda4\\lib\\site-packages (from face_recognition)\n",
      "Requirement already satisfied: dlib>=19.7 in c:\\users\\hp world\\anaconda4\\lib\\site-packages (from face_recognition)\n",
      "Requirement already satisfied: Click>=6.0 in c:\\users\\hp world\\anaconda4\\lib\\site-packages (from face_recognition)\n"
     ]
    },
    {
     "name": "stderr",
     "output_type": "stream",
     "text": [
      "You are using pip version 9.0.1, however version 20.1.1 is available.\n",
      "You should consider upgrading via the 'python -m pip install --upgrade pip' command.\n"
     ]
    }
   ],
   "source": [
    "!pip install face_recognition"
   ]
  },
  {
   "cell_type": "code",
   "execution_count": 1,
   "metadata": {},
   "outputs": [],
   "source": [
    "import face_recognition\n",
    "import os\n",
    "import cv2"
   ]
  },
  {
   "cell_type": "code",
   "execution_count": 3,
   "metadata": {},
   "outputs": [],
   "source": [
    "KNOWN_FACES_DIR = 'known_faces'\n",
    "UNKNOWN_FACES_DIR = 'unknown_faces'\n",
    "TOLERANCE = 0.6\n",
    "FRAME_THICKNESS = 3\n",
    "FONT_THICKNESS = 2\n",
    "MODEL = 'cnn'"
   ]
  },
  {
   "cell_type": "code",
   "execution_count": 4,
   "metadata": {},
   "outputs": [
    {
     "name": "stdout",
     "output_type": "stream",
     "text": [
      "Reading known faces\n"
     ]
    }
   ],
   "source": [
    "print(\"Reading known faces\")\n",
    "\n",
    "known_faces = []\n",
    "known_names = []\n",
    "\n",
    "for names in os.listdir(KNOWN_FACES_DIR): ## Frst loop to get the names of sub folders under known_faces\n",
    "    for file_name in os.listdir(KNOWN_FACES_DIR + '/' + names): ## image names under sub folder\n",
    "        image = face_recognition.load_image_file(KNOWN_FACES_DIR + '/' + names + '/' + file_name)\n",
    "        encoding = face_recognition.face_encodings(image)[0]\n",
    "        known_faces.append(encoding)\n",
    "        known_names.append(names)"
   ]
  },
  {
   "cell_type": "code",
   "execution_count": 5,
   "metadata": {},
   "outputs": [
    {
     "name": "stdout",
     "output_type": "stream",
     "text": [
      "processing the unknown faces..\n",
      "Matching the faces...\n",
      "Matching the faces...\n",
      "Matching the faces...\n",
      "Matching the faces...\n",
      "Matching the faces...\n"
     ]
    }
   ],
   "source": [
    "print(\"processing the unknown faces..\")\n",
    "for file_name in os.listdir(UNKNOWN_FACES_DIR):\n",
    "    image = face_recognition.load_image_file(UNKNOWN_FACES_DIR + '/' + file_name)\n",
    "    locations = face_recognition.face_locations(image, model = MODEL)\n",
    "    encodings = face_recognition.face_encodings(image,locations)\n",
    "    image = cv2.cvtColor(image, cv2.COLOR_RGB2BGR)  \n",
    "    print(\"Matching the faces...\")\n",
    "    for face_encodings, face_locations in zip(encodings,locations):\n",
    "        results = face_recognition.compare_faces(known_faces, face_encodings,TOLERANCE)\n",
    "        match = None\n",
    "        if True in results:\n",
    "            match = known_names[results.index(True)]\n",
    "            top_left = (face_locations[3],face_locations[0])\n",
    "            bottom_right = (face_locations[1],face_locations[2])\n",
    "            cv2.rectangle(image, top_left, bottom_right, (235,232,108),FRAME_THICKNESS)\n",
    "            cv2.putText(image,match,(face_locations[3]+10,face_locations[2] + 15),cv2.FONT_HERSHEY_COMPLEX,0.5,(200,200,0),FONT_THICKNESS)\n",
    "    cv2.imshow(file_name,image)\n",
    "    cv2.waitKey(0)\n",
    "    cv2.destroyAllWindows()\n"
   ]
  },
  {
   "cell_type": "code",
   "execution_count": null,
   "metadata": {},
   "outputs": [],
   "source": [
    "\n",
    "    "
   ]
  },
  {
   "cell_type": "code",
   "execution_count": null,
   "metadata": {},
   "outputs": [],
   "source": []
  }
 ],
 "metadata": {
  "kernelspec": {
   "display_name": "Python 3",
   "language": "python",
   "name": "python3"
  },
  "language_info": {
   "codemirror_mode": {
    "name": "ipython",
    "version": 3
   },
   "file_extension": ".py",
   "mimetype": "text/x-python",
   "name": "python",
   "nbconvert_exporter": "python",
   "pygments_lexer": "ipython3",
   "version": "3.6.9"
  }
 },
 "nbformat": 4,
 "nbformat_minor": 2
}
